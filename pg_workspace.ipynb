{
 "cells": [
  {
   "cell_type": "code",
   "execution_count": null,
   "metadata": {},
   "outputs": [],
   "source": [
    "from source.custom_cnn.pg_custom_architecture import PG_CNN as CNN"
   ]
  },
  {
   "cell_type": "code",
   "execution_count": null,
   "metadata": {},
   "outputs": [],
   "source": [
    "c = CNN()"
   ]
  },
  {
   "cell_type": "code",
   "execution_count": null,
   "metadata": {},
   "outputs": [],
   "source": [
    "import torch\n",
    "import torchvision\n",
    "import torchvision.transforms as transforms"
   ]
  },
  {
   "cell_type": "code",
   "execution_count": null,
   "metadata": {},
   "outputs": [],
   "source": [
    "transform = transforms.Compose(\n",
    "    [transforms.ToTensor(),\n",
    "     transforms.Normalize((0.5, 0.5, 0.5), (0.5, 0.5, 0.5))])\n",
    "\n",
    "trainset = torchvision.datasets.CIFAR10(root='./data', train=True,\n",
    "                                        download=True, transform=transform)\n",
    "trainloader = torch.utils.data.DataLoader(trainset, batch_size=4,\n",
    "                                          shuffle=True, num_workers=2)\n",
    "\n",
    "testset = torchvision.datasets.CIFAR10(root='./data', train=False,\n",
    "                                       download=True, transform=transform)\n",
    "testloader = torch.utils.data.DataLoader(testset, batch_size=4,\n",
    "                                         shuffle=False, num_workers=2)\n",
    "\n",
    "classes = ('plane', 'car', 'bird', 'cat',\n",
    "           'deer', 'dog', 'frog', 'horse', 'ship', 'truck')"
   ]
  },
  {
   "cell_type": "code",
   "execution_count": null,
   "metadata": {},
   "outputs": [],
   "source": [
    "import matplotlib.pyplot as plt\n",
    "import numpy as np\n",
    "\n",
    "classes = ('plane', 'car', 'bird', 'cat',\n",
    "           'deer', 'dog', 'frog', 'horse', 'ship', 'truck')\n",
    "\n",
    "def imshow(img):\n",
    "    img = img / 2 + 0.5     # unnormalize\n",
    "    npimg = img.numpy()\n",
    "    plt.imshow(np.transpose(npimg, (1, 2, 0)))\n",
    "\n",
    "\n",
    "# get some random training images\n",
    "dataiter = iter(trainloader)\n",
    "images, labels = dataiter.next()\n",
    "\n",
    "# show images\n",
    "#imshow(torchvision.utils.make_grid(images))\n",
    "# print labels\n",
    "print(' '.join('%5s' % classes[labels[j]] for j in range(4)))"
   ]
  },
  {
   "cell_type": "code",
   "execution_count": null,
   "metadata": {},
   "outputs": [],
   "source": [
    "import torch                     # for all things PyTorch\n",
    "import torch.nn as nn            # for torch.nn.Module, the parent object for PyTorch models\n",
    "import torch.nn.functional as F  # for the activation function\n",
    "import torch.optim as optim"
   ]
  },
  {
   "cell_type": "code",
   "execution_count": null,
   "metadata": {},
   "outputs": [],
   "source": [
    "criterion = nn.CrossEntropyLoss()\n",
    "optimizer = optim.SGD(c.parameters(), lr=0.001, momentum=0.9)"
   ]
  },
  {
   "cell_type": "code",
   "execution_count": null,
   "metadata": {},
   "outputs": [],
   "source": [
    "for epoch in range(1):  # loop over the dataset multiple times\n",
    "\n",
    "    running_loss = 0.0\n",
    "    for i, data in enumerate(trainloader, 0):\n",
    "        # get the inputs\n",
    "        inputs, labels = data\n",
    "\n",
    "        # zero the parameter gradients\n",
    "        optimizer.zero_grad()\n",
    "\n",
    "        # forward + backward + optimize\n",
    "        outputs = c(inputs)\n",
    "        loss = criterion(outputs, labels)\n",
    "        loss.backward()\n",
    "        optimizer.step()\n",
    "\n",
    "        # print statistics\n",
    "        running_loss += loss.item()\n",
    "        if i % 2000 == 1999:    # print every 2000 mini-batches\n",
    "            running_loss = 0.0\n",
    "\n",
    "#tqdm"
   ]
  },
  {
   "cell_type": "code",
   "execution_count": null,
   "metadata": {},
   "outputs": [],
   "source": [
    "correct = 0\n",
    "total = 0\n",
    "with torch.no_grad():\n",
    "    for data in testloader:\n",
    "        images, labels = data\n",
    "        outputs = c(images)\n",
    "        _, predicted = torch.max(outputs.data, 1)\n",
    "        total += labels.size(0)\n",
    "        correct += (predicted == labels).sum().item()\n",
    "\n",
    "print('Accuracy of the network on the 10000 test images: %d %%' % (\n",
    "    100 * correct / total))\n"
   ]
  },
  {
   "cell_type": "code",
   "execution_count": null,
   "metadata": {},
   "outputs": [],
   "source": [
    "def calculate_conv_output_size(input_height: int, input_width: int,\n",
    "    padding: int, kernel_height: int, kernel_width: int, stride):\n",
    "    output_height = (input_height + 2 * padding - kernel_height) / 2 + 1\n",
    "    output_width = (input_width + 2 * padding - kernel_width) / 2 + 1\n",
    "    return output_height, output_width"
   ]
  },
  {
   "cell_type": "code",
   "execution_count": null,
   "metadata": {},
   "outputs": [],
   "source": [
    "import torchvision\n",
    "import torchvision.transforms as transforms\n",
    "\n",
    "\n",
    "transform = transforms.Compose([\n",
    "    transforms.ToTensor(),\n",
    "    transforms.Normalize((0.5, 0.5, 0.5), (0.5, 0.5, 0.5))\n",
    "])"
   ]
  },
  {
   "cell_type": "code",
   "execution_count": null,
   "metadata": {},
   "outputs": [],
   "source": [
    "type(transform)"
   ]
  },
  {
   "cell_type": "code",
   "execution_count": null,
   "metadata": {},
   "outputs": [],
   "source": [
    "import torch\n",
    "\n",
    "torch.download_extract('cifar10_tiny')"
   ]
  },
  {
   "cell_type": "code",
   "execution_count": null,
   "metadata": {},
   "outputs": [],
   "source": [
    "from source.utils.config_manager import ConfigManager\n",
    "\n",
    "data_dir_path = ConfigManager.get_data_path() + 'cifar10-kaggle/'"
   ]
  },
  {
   "cell_type": "code",
   "execution_count": null,
   "metadata": {},
   "outputs": [],
   "source": [
    "transform_train = torchvision.transforms.Compose([\n",
    "    # Scale the image up to a square of 40 pixels in both height and width\n",
    "    torchvision.transforms.Resize(40),\n",
    "    # Randomly crop a square image of 40 pixels in both height and width to\n",
    "    # produce a small square of 0.64 to 1 times the area of the original\n",
    "    # image, and then scale it to a square of 32 pixels in both height and\n",
    "    # width\n",
    "    torchvision.transforms.RandomResizedCrop(32, scale=(0.64, 1.0),\n",
    "    ratio=(1.0, 1.0)),\n",
    "    torchvision.transforms.RandomHorizontalFlip(),\n",
    "    torchvision.transforms.ToTensor(),\n",
    "    # Standardize each channel of the image\n",
    "    torchvision.transforms.Normalize([0.4914, 0.4822, 0.4465],\n",
    "    [0.2023, 0.1994, 0.2010])])"
   ]
  },
  {
   "cell_type": "code",
   "execution_count": null,
   "metadata": {},
   "outputs": [],
   "source": [
    "transform_test = torchvision.transforms.Compose([\n",
    "    torchvision.transforms.ToTensor(),\n",
    "    torchvision.transforms.Normalize([0.4914, 0.4822, 0.4465],\n",
    "    [0.2023, 0.1994, 0.2010])])"
   ]
  },
  {
   "cell_type": "code",
   "execution_count": null,
   "metadata": {},
   "outputs": [],
   "source": [
    "from source.utils.data_loading import get_data\n",
    "\n",
    "train_iter, train_valid_iter, valid_iter, test_iter = get_data(data_dir_path, transform_train, transform_test, batch_size=4)"
   ]
  },
  {
   "cell_type": "code",
   "execution_count": null,
   "metadata": {},
   "outputs": [],
   "source": [
    "\n"
   ]
  },
  {
   "cell_type": "code",
   "execution_count": null,
   "metadata": {},
   "outputs": [],
   "source": [
    "import torchvision\n",
    "import torchvision.transforms as transforms\n",
    "\n",
    "\n",
    "print(torchvision.transforms.transforms.)"
   ]
  },
  {
   "cell_type": "code",
   "execution_count": 1,
   "metadata": {},
   "outputs": [],
   "source": [
    "from functools import partial\n",
    "import numpy as np\n",
    "import os\n",
    "import torch\n",
    "import torch.nn as nn\n",
    "import torch.nn.functional as F\n",
    "import torch.optim as optim\n",
    "from torch.utils.data import random_split\n",
    "import torchvision\n",
    "import torchvision.transforms as transforms\n",
    "from ray import tune\n",
    "from ray.tune import CLIReporter, JupyterNotebookReporter\n",
    "from ray.tune.schedulers import ASHAScheduler\n",
    "\n",
    "from source.hyperparams_tuning import HyperparameteresTunner\n",
    "\n",
    "# transfomers\n",
    "from source.transformers import TestTransformersFactory\n",
    "from source.transformers import TrainTrasformersFactory\n"
   ]
  },
  {
   "cell_type": "code",
   "execution_count": 2,
   "metadata": {},
   "outputs": [],
   "source": [
    "class Net(nn.Module):\n",
    "    def __init__(self, l1=120, l2=84):\n",
    "        super(Net, self).__init__()\n",
    "        self.conv1 = nn.Conv2d(3, 6, 5)\n",
    "        self.pool = nn.MaxPool2d(2, 2)\n",
    "        self.conv2 = nn.Conv2d(6, 16, 5)\n",
    "        self.fc1 = nn.Linear(16 * 5 * 5, l1)\n",
    "        self.fc2 = nn.Linear(l1, l2)\n",
    "        self.fc3 = nn.Linear(l2, 10)\n",
    "\n",
    "    def forward(self, x):\n",
    "        x = self.pool(F.relu(self.conv1(x)))\n",
    "        x = self.pool(F.relu(self.conv2(x)))\n",
    "        x = x.view(-1, 16 * 5 * 5)\n",
    "        x = F.relu(self.fc1(x))\n",
    "        x = F.relu(self.fc2(x))\n",
    "        x = self.fc3(x)\n",
    "        return x"
   ]
  },
  {
   "cell_type": "code",
   "execution_count": 3,
   "metadata": {},
   "outputs": [],
   "source": [
    "gpus_per_trial = 2\n",
    "max_num_epochs = 10\n",
    "num_samples = 10\n",
    "    \n",
    "config_criterion_1 = {\n",
    "    \"type\": tune.choice([nn.CrossEntropyLoss])\n",
    "}\n",
    "\n",
    "config_optimizer_1 = {\n",
    "    \"type\": tune.choice([optim.SGD]),\n",
    "    \"lr\": tune.loguniform(1e-4, 1e-1),\n",
    "}\n",
    "\n",
    "config_net_1 = {\n",
    "    \"type\": tune.choice([Net]),\n",
    "    \"transfrom_train\": tune.choice([TrainTrasformersFactory.get_train_transformer]),\n",
    "    \"transform_test\": tune.choice([TestTransformersFactory.get_test_transformer]),\n",
    "    \"optimizer\": tune.choice([config_optimizer_1]),\n",
    "    \"criterion\": tune.choice([config_criterion_1]),\n",
    "    \"l1\": tune.sample_from(lambda _: 2 ** np.random.randint(2, 9)),\n",
    "    \"l2\": tune.sample_from(lambda _: 2 ** np.random.randint(2, 9)),\n",
    "}\n",
    "\n",
    "config_net_2 = {\n",
    "    \"type\": tune.choice([Net]),\n",
    "    \"transfrom_train\": tune.choice([TrainTrasformersFactory.get_train_transformer]),\n",
    "    \"transform_test\": tune.choice([TestTransformersFactory.get_test_transformer]),\n",
    "    \"optimizer\": tune.choice([config_optimizer_1]),\n",
    "    \"criterion\": tune.choice([config_criterion_1]),\n",
    "    \"l1\": tune.sample_from(lambda _: 2 ** np.random.randint(2, 9)),\n",
    "    \"l2\": tune.sample_from(lambda _: 2 ** np.random.randint(2, 9)),\n",
    "}\n",
    "\n",
    "config = {\n",
    "    \n",
    "    \"batch_size\": tune.choice([2, 4, 8, 16]),\n",
    "    \"epochs\": 10,\n",
    "    \"net\": tune.choice([config_net_1, config_net_2])\n",
    "}\n",
    "\n",
    "# config_criterion_1 = {\n",
    "#     \"type\": nn.CrossEntropyLoss\n",
    "# }\n",
    "\n",
    "# config_optimizer_1 = {\n",
    "#     \"type\": optim.SGD,\n",
    "#     \"lr\": 0.001,\n",
    "# }\n",
    "\n",
    "# config_net_1 = {\n",
    "#     \"type\": Net,\n",
    "#     \"transform_train\": TrainTrasformersFactory.get_train_transformer,\n",
    "#     \"transform_test\": TestTransformersFactory.get_test_transformer,\n",
    "#     \"optimizer\": config_optimizer_1,\n",
    "#     \"criterion\": config_criterion_1,\n",
    "#     \"l1\": 16,\n",
    "#     \"l2\": 8,\n",
    "# }\n",
    "\n",
    "# config_net_2 = {\n",
    "#     \"type\": tune.choice([Net]),\n",
    "#     \"transform_train\": tune.choice([TrainTrasformersFactory.get_train_transformer]),\n",
    "#     \"transform_test\": tune.choice([TestTransformersFactory.get_test_transformer]),\n",
    "#     \"optimizer\": tune.choice([config_optimizer_1]),\n",
    "#     \"criterion\": tune.choice([config_criterion_1]),\n",
    "#     \"l1\": tune.sample_from(lambda _: 2 ** np.random.randint(2, 9)),\n",
    "#     \"l2\": tune.sample_from(lambda _: 2 ** np.random.randint(2, 9)),\n",
    "# }\n",
    "\n",
    "# config = {\n",
    "#     \"batch_size\": 4,\n",
    "#     \"epochs\": 10,\n",
    "#     \"net\": config_net_1\n",
    "# }\n",
    "\n",
    "scheduler = ASHAScheduler(\n",
    "    metric=\"loss\",\n",
    "    mode=\"min\",\n",
    "    max_t=max_num_epochs,\n",
    "    grace_period=1,\n",
    "    reduction_factor=2)\n",
    "\n",
    "reporter = JupyterNotebookReporter(max_progress_rows=20,overwrite=False,max_report_frequency  = 10,max_error_rows=5)\n"
   ]
  },
  {
   "cell_type": "code",
   "execution_count": 4,
   "metadata": {},
   "outputs": [],
   "source": [
    "tuner = HyperparameteresTunner()"
   ]
  },
  {
   "cell_type": "code",
   "execution_count": 5,
   "metadata": {},
   "outputs": [
    {
     "data": {
      "text/html": [
       "== Status ==<br>Current time: 2022-03-13 21:17:47 (running for 00:00:02.22)<br>Memory usage on this node: 10.3/15.9 GiB<br>Using AsyncHyperBand: num_stopped=0\n",
       "Bracket: Iter 8.000: None | Iter 4.000: None | Iter 2.000: None | Iter 1.000: None<br>Resources requested: 0/8 CPUs, 0/1 GPUs, 0.0/3.73 GiB heap, 0.0/1.86 GiB objects<br>Result logdir: C:\\Users\\golik\\ray_results\\__train_validate_2022-03-13_21-17-45<br>Number of trials: 1/1 (1 ERROR)<br><table>\n",
       "<thead>\n",
       "<tr><th>Trial name                  </th><th>status  </th><th>loc           </th><th style=\"text-align: right;\">  batch_size</th><th>net                                                                                                                                                                                                                                                                                                                                                                                                              </th><th>net/criterion                                             </th><th>net/criterion/type                              </th><th style=\"text-align: right;\">  net/l1</th><th style=\"text-align: right;\">  net/l2</th><th>net/optimizer                                                      </th><th style=\"text-align: right;\">  net/optimizer/lr</th><th>net/optimizer/type           </th><th>net/transform_test                                                           </th><th>net/transfrom_train                                                           </th><th>net/type              </th></tr>\n",
       "</thead>\n",
       "<tbody>\n",
       "<tr><td>__train_validate_a4ce4_00000</td><td>ERROR   </td><td>127.0.0.1:7984</td><td style=\"text-align: right;\">           4</td><td>{&#x27;type&#x27;: &lt;class &#x27;__main__.Net&#x27;&gt;, &#x27;transfrom_train&#x27;: &lt;function TrainTrasformersFactory.get_train_transformer at 0x000002795C8A31F0&gt;, &#x27;transform_test&#x27;: &lt;function TestTransformersFactory.get_test_transformer at 0x000002795C8A3280&gt;, &#x27;optimizer&#x27;: {&#x27;type&#x27;: &lt;class &#x27;torch.optim.sgd.SGD&#x27;&gt;, &#x27;lr&#x27;: 0.020519573409551368}, &#x27;criterion&#x27;: {&#x27;type&#x27;: &lt;class &#x27;torch.nn.modules.loss.CrossEntropyLoss&#x27;&gt;}, &#x27;l1&#x27;: 4, &#x27;l2&#x27;: 4}</td><td>{&#x27;type&#x27;: &lt;class &#x27;torch.nn.modules.loss.CrossEntropyLoss&#x27;&gt;}</td><td>&lt;class &#x27;torch.nn.modules.loss.CrossEntropyLoss&#x27;&gt;</td><td style=\"text-align: right;\">       4</td><td style=\"text-align: right;\">       4</td><td>{&#x27;type&#x27;: &lt;class &#x27;torch.optim.sgd.SGD&#x27;&gt;, &#x27;lr&#x27;: 0.020519573409551368}</td><td style=\"text-align: right;\">         0.0205196</td><td>&lt;class &#x27;torch.optim.sgd.SGD&#x27;&gt;</td><td>&lt;function TestTransformersFactory.get_test_transformer at 0x000002795C8A3280&gt;</td><td>&lt;function TrainTrasformersFactory.get_train_transformer at 0x000002795C8A31F0&gt;</td><td>&lt;class &#x27;__main__.Net&#x27;&gt;</td></tr>\n",
       "</tbody>\n",
       "</table><br>Number of errored trials: 1<br><table>\n",
       "<thead>\n",
       "<tr><th>Trial name                  </th><th style=\"text-align: right;\">  # failures</th><th>error file                                                                                            </th></tr>\n",
       "</thead>\n",
       "<tbody>\n",
       "<tr><td>__train_validate_a4ce4_00000</td><td style=\"text-align: right;\">           1</td><td>C:\\Users\\golik\\ray_results\\__train_validate_2022-03-13_21-17-45\\__train_validate_a4ce4_00000\\error.txt</td></tr>\n",
       "</tbody>\n",
       "</table><br>"
      ],
      "text/plain": [
       "<IPython.core.display.HTML object>"
      ]
     },
     "metadata": {},
     "output_type": "display_data"
    },
    {
     "ename": "TuneError",
     "evalue": "('Trials did not complete', [__train_validate_a4ce4_00000])",
     "output_type": "error",
     "traceback": [
      "\u001b[1;31m---------------------------------------------------------------------------\u001b[0m",
      "\u001b[1;31mTuneError\u001b[0m                                 Traceback (most recent call last)",
      "\u001b[1;32m~\\AppData\\Local\\Temp/ipykernel_11260/472174659.py\u001b[0m in \u001b[0;36m<module>\u001b[1;34m\u001b[0m\n\u001b[1;32m----> 1\u001b[1;33m \u001b[0mtuner\u001b[0m\u001b[1;33m.\u001b[0m\u001b[0mtune\u001b[0m\u001b[1;33m(\u001b[0m\u001b[1;34m'cifar10'\u001b[0m\u001b[1;33m,\u001b[0m \u001b[0mconfig\u001b[0m\u001b[1;33m,\u001b[0m \u001b[0mscheduler\u001b[0m\u001b[1;33m,\u001b[0m \u001b[0mreporter\u001b[0m\u001b[1;33m)\u001b[0m\u001b[1;33m\u001b[0m\u001b[1;33m\u001b[0m\u001b[0m\n\u001b[0m",
      "\u001b[1;32mc:\\Users\\golik\\Desktop\\mgr\\dl\\project1\\cifar10-computer_vision\\source\\hyperparams_tuning.py\u001b[0m in \u001b[0;36mtune\u001b[1;34m(self, dataset, config, scheduler, reporter, num_samples, resources_per_trial, device)\u001b[0m\n\u001b[0;32m     38\u001b[0m         \u001b[0mself\u001b[0m\u001b[1;33m.\u001b[0m\u001b[0mconfig\u001b[0m \u001b[1;33m=\u001b[0m \u001b[0mconfig\u001b[0m\u001b[1;33m\u001b[0m\u001b[1;33m\u001b[0m\u001b[0m\n\u001b[0;32m     39\u001b[0m \u001b[1;33m\u001b[0m\u001b[0m\n\u001b[1;32m---> 40\u001b[1;33m         result = tune.run(\n\u001b[0m\u001b[0;32m     41\u001b[0m             \u001b[0mtune\u001b[0m\u001b[1;33m.\u001b[0m\u001b[0mwith_parameters\u001b[0m\u001b[1;33m(\u001b[0m\u001b[0mself\u001b[0m\u001b[1;33m.\u001b[0m\u001b[0m__train_validate\u001b[0m\u001b[1;33m)\u001b[0m\u001b[1;33m,\u001b[0m\u001b[1;33m\u001b[0m\u001b[1;33m\u001b[0m\u001b[0m\n\u001b[0;32m     42\u001b[0m             \u001b[0mtrial_dirname_creator\u001b[0m\u001b[1;33m=\u001b[0m\u001b[1;32mlambda\u001b[0m \u001b[0mtrial\u001b[0m\u001b[1;33m:\u001b[0m \u001b[1;34mf\"{trial.trainable_name}_{trial.trial_id}\"\u001b[0m\u001b[1;33m,\u001b[0m\u001b[1;33m\u001b[0m\u001b[1;33m\u001b[0m\u001b[0m\n",
      "\u001b[1;32mC:\\ProgramData\\Anaconda3\\lib\\site-packages\\ray\\tune\\tune.py\u001b[0m in \u001b[0;36mrun\u001b[1;34m(run_or_experiment, name, metric, mode, stop, time_budget_s, config, resources_per_trial, num_samples, local_dir, search_alg, scheduler, keep_checkpoints_num, checkpoint_score_attr, checkpoint_freq, checkpoint_at_end, verbose, progress_reporter, log_to_file, trial_name_creator, trial_dirname_creator, sync_config, export_formats, max_failures, fail_fast, restore, server_port, resume, reuse_actors, trial_executor, raise_on_failed_trial, callbacks, max_concurrent_trials, queue_trials, loggers, _remote)\u001b[0m\n\u001b[0;32m    631\u001b[0m     \u001b[1;32mif\u001b[0m \u001b[0mincomplete_trials\u001b[0m\u001b[1;33m:\u001b[0m\u001b[1;33m\u001b[0m\u001b[1;33m\u001b[0m\u001b[0m\n\u001b[0;32m    632\u001b[0m         \u001b[1;32mif\u001b[0m \u001b[0mraise_on_failed_trial\u001b[0m \u001b[1;32mand\u001b[0m \u001b[1;32mnot\u001b[0m \u001b[0mstate\u001b[0m\u001b[1;33m[\u001b[0m\u001b[0msignal\u001b[0m\u001b[1;33m.\u001b[0m\u001b[0mSIGINT\u001b[0m\u001b[1;33m]\u001b[0m\u001b[1;33m:\u001b[0m\u001b[1;33m\u001b[0m\u001b[1;33m\u001b[0m\u001b[0m\n\u001b[1;32m--> 633\u001b[1;33m             \u001b[1;32mraise\u001b[0m \u001b[0mTuneError\u001b[0m\u001b[1;33m(\u001b[0m\u001b[1;34m\"Trials did not complete\"\u001b[0m\u001b[1;33m,\u001b[0m \u001b[0mincomplete_trials\u001b[0m\u001b[1;33m)\u001b[0m\u001b[1;33m\u001b[0m\u001b[1;33m\u001b[0m\u001b[0m\n\u001b[0m\u001b[0;32m    634\u001b[0m         \u001b[1;32melse\u001b[0m\u001b[1;33m:\u001b[0m\u001b[1;33m\u001b[0m\u001b[1;33m\u001b[0m\u001b[0m\n\u001b[0;32m    635\u001b[0m             \u001b[0mlogger\u001b[0m\u001b[1;33m.\u001b[0m\u001b[0merror\u001b[0m\u001b[1;33m(\u001b[0m\u001b[1;34m\"Trials did not complete: %s\"\u001b[0m\u001b[1;33m,\u001b[0m \u001b[0mincomplete_trials\u001b[0m\u001b[1;33m)\u001b[0m\u001b[1;33m\u001b[0m\u001b[1;33m\u001b[0m\u001b[0m\n",
      "\u001b[1;31mTuneError\u001b[0m: ('Trials did not complete', [__train_validate_a4ce4_00000])"
     ]
    }
   ],
   "source": [
    "tuner.tune('cifar10', config, scheduler, reporter)"
   ]
  },
  {
   "cell_type": "code",
   "execution_count": null,
   "metadata": {},
   "outputs": [],
   "source": []
  }
 ],
 "metadata": {
  "interpreter": {
   "hash": "b3ba2566441a7c06988d0923437866b63cedc61552a5af99d1f4fb67d367b25f"
  },
  "kernelspec": {
   "display_name": "Python 3.8.12 ('base')",
   "language": "python",
   "name": "python3"
  },
  "language_info": {
   "codemirror_mode": {
    "name": "ipython",
    "version": 3
   },
   "file_extension": ".py",
   "mimetype": "text/x-python",
   "name": "python",
   "nbconvert_exporter": "python",
   "pygments_lexer": "ipython3",
   "version": "3.8.12"
  },
  "orig_nbformat": 4
 },
 "nbformat": 4,
 "nbformat_minor": 2
}
