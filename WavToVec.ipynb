{
 "cells": [
  {
   "cell_type": "code",
   "execution_count": 1,
   "metadata": {},
   "outputs": [
    {
     "name": "stderr",
     "output_type": "stream",
     "text": [
      "c:\\Users\\gosia\\Desktop\\studia\\mgr_sem_1\\DL\\python2\\lib\\site-packages\\tqdm\\auto.py:22: TqdmWarning: IProgress not found. Please update jupyter and ipywidgets. See https://ipywidgets.readthedocs.io/en/stable/user_install.html\n",
      "  from .autonotebook import tqdm as notebook_tqdm\n",
      "The tokenizer class you load from this checkpoint is not the same type as the class this function is called from. It may result in unexpected tokenization. \n",
      "The tokenizer class you load from this checkpoint is 'Wav2Vec2CTCTokenizer'. \n",
      "The class this function is called from is 'Wav2Vec2Tokenizer'.\n",
      "c:\\Users\\gosia\\Desktop\\studia\\mgr_sem_1\\DL\\python2\\lib\\site-packages\\transformers\\models\\wav2vec2\\tokenization_wav2vec2.py:748: FutureWarning: The class `Wav2Vec2Tokenizer` is deprecated and will be removed in version 5 of Transformers. Please use `Wav2Vec2Processor` or `Wav2Vec2CTCTokenizer` instead.\n",
      "  FutureWarning,\n",
      "Some weights of Wav2Vec2ForCTC were not initialized from the model checkpoint at facebook/wav2vec2-base-960h and are newly initialized: ['wav2vec2.masked_spec_embed']\n",
      "You should probably TRAIN this model on a down-stream task to be able to use it for predictions and inference.\n",
      "100%|██████████| 158538/158538 [8:23:22<00:00,  5.25it/s]  \n"
     ]
    }
   ],
   "source": [
    "from source.project2.training_scripts import predict_wav_to_vec\n",
    "predictions, filenames = predict_wav_to_vec()"
   ]
  },
  {
   "cell_type": "code",
   "execution_count": 2,
   "metadata": {},
   "outputs": [],
   "source": [
    "import pandas as pd\n",
    "\n",
    "res = {'fname': 'label'}\n",
    "res.update({k: v for k, v in zip(filenames,predictions)})\n",
    "res = pd.Series(res)\n",
    "res = res.apply(lambda x : 'unknown' if x in UNKNOWN_DIRS else x)\n",
    "res.to_csv(\"wav_2_vec.csv\", header=None)"
   ]
  },
  {
   "cell_type": "code",
   "execution_count": 18,
   "metadata": {},
   "outputs": [],
   "source": [
    "import editdistance"
   ]
  },
  {
   "cell_type": "markdown",
   "metadata": {},
   "source": [
    "# Edit distance == 0"
   ]
  },
  {
   "cell_type": "code",
   "execution_count": 23,
   "metadata": {},
   "outputs": [],
   "source": [
    "data = pd.read_csv(\"wav_2_vec.csv\",index_col=0)\n",
    "data.reset_index(inplace = True)\n",
    "data['fname'] = data['fname'].apply(lambda x: x.split('\\\\')[-1])\n",
    "mapping = [ 'yes',  'no',  'up',  'down',  'left', 'right',\n",
    "                'on',  'off', 'stop', 'go', 'silence']\n",
    "UNKNOWN_DIRS = [\"bed\", \"bird\", \"cat\", \"dog\", \"eight\", \"five\", \"four\", \"happy\", \"house\", \"marvin\", \"nine\", \"one\", \"seven\", \"sheila\", \"six\", \"three\", \"tree\", \"two\", \"wow\", \"zero\"]\n",
    "data.set_index('fname').to_csv('wav_2_vec_3.csv')"
   ]
  },
  {
   "cell_type": "markdown",
   "metadata": {},
   "source": [
    "# Edit distance == 1"
   ]
  },
  {
   "cell_type": "code",
   "execution_count": 62,
   "metadata": {},
   "outputs": [],
   "source": [
    "def change_to_the_closest(label,mapping):\n",
    "    for word in mapping:\n",
    "        try:\n",
    "            _ = label.split(' ')\n",
    "            if word in _:\n",
    "                return word\n",
    "            \n",
    "            if any([editdistance.eval(x, word) ==1 for x in _]):\n",
    "                return word\n",
    "        except Exception as e:\n",
    "            return 'silence'\n",
    "\n",
    "    return 'unknown'\n"
   ]
  },
  {
   "cell_type": "code",
   "execution_count": 63,
   "metadata": {},
   "outputs": [],
   "source": [
    "def check_if_exists(label,mapping,existing):\n",
    "    if label in existing:\n",
    "        return label\n",
    "    return change_to_the_closest(label,mapping)"
   ]
  },
  {
   "cell_type": "code",
   "execution_count": 64,
   "metadata": {},
   "outputs": [],
   "source": [
    "existing = [ 'yes',  'no',  'up',  'down',  'left', 'right', 'on',  'off', 'stop', 'go',\"unknown\",'silence']\n",
    "mapping = [ 'yes',  'no',  'up',  'down',  'left', 'right',\n",
    "                'on',  'off', 'stop', 'go']\n",
    "data['label'] = data['label'].apply(lambda x: check_if_exists(x,mapping,existing))"
   ]
  },
  {
   "cell_type": "code",
   "execution_count": 65,
   "metadata": {},
   "outputs": [],
   "source": [
    "data.set_index('fname').to_csv('wav_2_vec_4.csv')"
   ]
  }
 ],
 "metadata": {
  "interpreter": {
   "hash": "6ca89b7d1d03a86e74cdf7f8c9e3295f1c29b02e3c5fdefb1c9860a4905638e0"
  },
  "kernelspec": {
   "display_name": "Python 3.7.9 ('python2')",
   "language": "python",
   "name": "python3"
  },
  "language_info": {
   "codemirror_mode": {
    "name": "ipython",
    "version": 3
   },
   "file_extension": ".py",
   "mimetype": "text/x-python",
   "name": "python",
   "nbconvert_exporter": "python",
   "pygments_lexer": "ipython3",
   "version": "3.7.9"
  },
  "orig_nbformat": 4
 },
 "nbformat": 4,
 "nbformat_minor": 2
}
