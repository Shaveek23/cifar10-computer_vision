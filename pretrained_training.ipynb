{
 "cells": [
  {
   "cell_type": "code",
   "execution_count": null,
   "metadata": {},
   "outputs": [],
   "source": [
    "import torch\n",
    "from source.utils.config_manager import ConfigManager\n",
    "from source.utils.label_mapper import LabelMapper\n",
    "from source.utils import save_to_kaggle\n",
    "\n",
    "# transformers\n",
    "from source.transformers import TestTransformersFactory\n",
    "from source.transformers import TrainTrasformersFactory\n",
    "\n",
    "# data loaders\n",
    "from source.dataloaders.cnn_data_loaders_factory import CNNDataLoaderFactory\n",
    "\n",
    "\n",
    "# networks\n",
    "from source.pre_trained.efficient_net import PretrainedEff_cnn\n",
    "\n"
   ]
  },
  {
   "cell_type": "code",
   "execution_count": null,
   "metadata": {},
   "outputs": [],
   "source": [
    "dataset_name = 'cifar10'\n",
    "dataset_path = ConfigManager.get_dataset_path(dataset_name)\n",
    "loader = CNNDataLoaderFactory(dataset_path,\n",
    "            TrainTrasformersFactory.get_transformer_kaggle(), TestTransformersFactory.get_transformer_efficient())\n",
    "test_loader = loader.get_test_loader(64)"
   ]
  },
  {
   "cell_type": "code",
   "execution_count": null,
   "metadata": {},
   "outputs": [],
   "source": [
    "model1 = PretrainedEff_cnn()\n",
    "model1.load_state_dict(torch.load(\"C:\\\\Users\\\\gosia\\\\Desktop\\\\studia\\\\mgr_sem_1\\\\DL\\\\cifar10-computer_vision\\\\source\\\\pretrained_results\\\\efficient.pth\",map_location=torch.device('cpu')))\n",
    "model1.eval()"
   ]
  },
  {
   "cell_type": "code",
   "execution_count": null,
   "metadata": {},
   "outputs": [],
   "source": [
    "device = 'cuda'\n",
    "outputs = model1.predict(test_loader, device,LabelMapper.get_cifar10_mapper()) "
   ]
  },
  {
   "cell_type": "code",
   "execution_count": null,
   "metadata": {},
   "outputs": [],
   "source": [
    "save_to_kaggle(300000,outputs, \"efficient\")"
   ]
  }
 ],
 "metadata": {
  "interpreter": {
   "hash": "4f596b1f1e2414a57cbac219f0e45f8be2c707cf8cf81cba26a1cb9bf52f74de"
  },
  "kernelspec": {
   "display_name": "Python 3.9.7 ('base')",
   "language": "python",
   "name": "python3"
  },
  "language_info": {
   "codemirror_mode": {
    "name": "ipython",
    "version": 3
   },
   "file_extension": ".py",
   "mimetype": "text/x-python",
   "name": "python",
   "nbconvert_exporter": "python",
   "pygments_lexer": "ipython3",
   "version": "3.8.12"
  },
  "orig_nbformat": 4
 },
 "nbformat": 4,
 "nbformat_minor": 2
}
