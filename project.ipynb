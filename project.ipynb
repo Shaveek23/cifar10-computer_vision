{
 "cells": [
  {
   "cell_type": "markdown",
   "metadata": {},
   "source": [
    "### PROJECT 1"
   ]
  },
  {
   "cell_type": "markdown",
   "metadata": {},
   "source": [
    "Docelowy notebook w którym będzie finalny kod :-)"
   ]
  },
  {
   "cell_type": "markdown",
   "metadata": {},
   "source": []
  },
  {
   "cell_type": "code",
   "execution_count": 2,
   "metadata": {},
   "outputs": [],
   "source": [
    "# imports\n",
    "import torch.nn as nn\n",
    "import torch.optim as optim\n",
    "import numpy as np\n",
    "from source.utils.config_manager import ConfigManager\n",
    "\n",
    "# hyperparameters tuning\n",
    "from ray import tune\n",
    "from ray.tune import JupyterNotebookReporter\n",
    "from ray.tune.schedulers import ASHAScheduler\n",
    "\n",
    "from source.hyperparams_tuning import HyperparameteresTunner\n",
    "\n",
    "# transformers\n",
    "from source.transformers import TestTransformersFactory\n",
    "from source.transformers import TrainTrasformersFactory\n",
    "\n",
    "# data loaders\n",
    "from source.dataloaders.cnn_data_loaders_factory import CNNDataLoaderFactory\n",
    "\n",
    "# networks\n",
    "from source.custom_cnn.pytorch_ray_tutorial_cnn import Net"
   ]
  },
  {
   "cell_type": "code",
   "execution_count": 3,
   "metadata": {},
   "outputs": [],
   "source": [
    "dataset_name = 'cifar10'\n",
    "dataset_path = ConfigManager.get_dataset_path(dataset_name)\n",
    "gpus_per_trial = 2\n",
    "max_num_epochs = 10\n",
    "num_samples = 10\n",
    "    \n",
    "config_criterion_1 = {\n",
    "    \"type\": tune.choice([nn.CrossEntropyLoss])\n",
    "}\n",
    "\n",
    "config_optimizer_1 = {\n",
    "    \"type\": tune.choice([optim.SGD]),\n",
    "    \"lr\": tune.loguniform(1e-4, 1e-1),\n",
    "}\n",
    "\n",
    "config_net_1 = {\n",
    "    \"type\": tune.choice([Net]),\n",
    "    \"optimizer\": tune.choice([config_optimizer_1]),\n",
    "    \"criterion\": tune.choice([config_criterion_1]),\n",
    "    \"l1\": tune.sample_from(lambda _: 2 ** np.random.randint(2, 9)),\n",
    "    \"l2\": tune.sample_from(lambda _: 2 ** np.random.randint(2, 9)),\n",
    "}\n",
    "\n",
    "config_net_2 = {\n",
    "    \"type\": tune.choice([Net]),\n",
    "    \"optimizer\": tune.choice([config_optimizer_1]),\n",
    "    \"criterion\": tune.choice([config_criterion_1]),\n",
    "    \"l1\": tune.sample_from(lambda _: 2 ** np.random.randint(2, 9)),\n",
    "    \"l2\": tune.sample_from(lambda _: 2 ** np.random.randint(2, 9)),\n",
    "}\n",
    "\n",
    "config = {\n",
    "    \"data_loaders_factory\": tune.choice([\n",
    "        CNNDataLoaderFactory(dataset_path,\n",
    "            TrainTrasformersFactory.get_train_transformer(), TestTransformersFactory.get_test_transformer())\n",
    "    ]),\n",
    "    \"batch_size\": tune.choice([2, 4, 8, 16]),\n",
    "    \"epochs\": 10,\n",
    "    \"net\": tune.choice([config_net_1, config_net_2])\n",
    "}\n",
    "\n",
    "scheduler = ASHAScheduler(\n",
    "    metric=\"loss\",\n",
    "    mode=\"min\",\n",
    "    max_t=max_num_epochs,\n",
    "    grace_period=1,\n",
    "    reduction_factor=2)\n",
    "\n",
    "reporter = JupyterNotebookReporter(max_progress_rows=20,overwrite=True,max_report_frequency  = 10,max_error_rows=5)"
   ]
  },
  {
   "cell_type": "code",
   "execution_count": 4,
   "metadata": {},
   "outputs": [],
   "source": [
    "tuner = HyperparameteresTunner()"
   ]
  },
  {
   "cell_type": "code",
   "execution_count": null,
   "metadata": {},
   "outputs": [],
   "source": [
    "tuner.tune(dataset_name, config, scheduler, reporter)"
   ]
  }
 ],
 "metadata": {
  "interpreter": {
   "hash": "b3ba2566441a7c06988d0923437866b63cedc61552a5af99d1f4fb67d367b25f"
  },
  "kernelspec": {
   "display_name": "Python 3.8.12 ('base')",
   "language": "python",
   "name": "python3"
  },
  "language_info": {
   "codemirror_mode": {
    "name": "ipython",
    "version": 3
   },
   "file_extension": ".py",
   "mimetype": "text/x-python",
   "name": "python",
   "nbconvert_exporter": "python",
   "pygments_lexer": "ipython3",
   "version": "3.8.12"
  },
  "orig_nbformat": 4
 },
 "nbformat": 4,
 "nbformat_minor": 2
}
