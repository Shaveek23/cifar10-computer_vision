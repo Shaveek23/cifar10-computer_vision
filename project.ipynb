{
 "cells": [
  {
   "cell_type": "markdown",
   "metadata": {},
   "source": [
    "### PROJECT 1"
   ]
  },
  {
   "cell_type": "code",
   "execution_count": null,
   "metadata": {},
   "outputs": [],
   "source": [
    "# imports\n",
    "import torch.nn as nn\n",
    "import torch.optim as optim\n",
    "import numpy as np\n",
    "from source.utils.config_manager import ConfigManager\n",
    "\n",
    "# hyperparameters tuning\n",
    "from ray import tune\n",
    "from ray.tune import JupyterNotebookReporter\n",
    "from ray.tune.schedulers import ASHAScheduler\n",
    "\n",
    "from source.hyperparams_tuning import HyperparameteresTunner\n",
    "\n",
    "# transformers\n",
    "from source.transformers import TestTransformersFactory\n",
    "from source.transformers import TrainTrasformersFactory\n",
    "\n",
    "# data loaders\n",
    "from source.dataloaders.cnn_data_loaders_factory import CNNDataLoaderFactory\n",
    "\n",
    "# networks\n",
    "from source.custom_cnn.pytorch_ray_tutorial_cnn import Net\n",
    "from source.custom_cnn.dropout_batch_norm_cnn import DBN_cnn"
   ]
  },
  {
   "cell_type": "code",
   "execution_count": null,
   "metadata": {},
   "outputs": [],
   "source": [
    "dataset_name = 'cifar10'\n",
    "dataset_path = ConfigManager.get_dataset_path(dataset_name)\n",
    "gpus_per_trial = 2\n",
    "max_num_epochs = 20\n",
    "num_samples = 10\n",
    "local_dir = ConfigManager.get_tuning_results_path()\n",
    "\n",
    "config_criterion_1 = {\n",
    "    \"type\": tune.choice([nn.CrossEntropyLoss])\n",
    "}\n",
    "\n",
    "config_optimizer_1 = {\n",
    "    \"type\": tune.choice([optim.SGD, optim.Adam]),\n",
    "    \"lr\": tune.uniform(0.001, 0.01),\n",
    "    \"weight_decay\": tune.choice([0, 0.0001, 0.001, 0.01])\n",
    "}\n",
    "\n",
    "config_net_1 = {\n",
    "    \"type\": tune.choice([DBN_cnn]),\n",
    "    \"optimizer\": tune.choice([config_optimizer_1]),\n",
    "    \"criterion\": tune.choice([config_criterion_1]),\n",
    "    \"n_blocks\": tune.choice([1, 3]),\n",
    "    \"is_batch_norm\": tune.choice([True, False]),\n",
    "    \"is_fc_drop_out\": tune.choice([True, False]),\n",
    "    \"is_batch_norm_fc\": tune.choice([True, False]),\n",
    "    \"is_drop_out\": tune.choice([True, False])\n",
    "}\n",
    "\n",
    "config = {\n",
    "    \"data_loaders_factory\": tune.choice([\n",
    "        CNNDataLoaderFactory(dataset_path,\n",
    "            TrainTrasformersFactory.get_transformer_kaggle(), TestTransformersFactory.get_transformer_kaggle())\n",
    "    ]),\n",
    "    \"batch_size\": tune.choice([8, 32, 64]),\n",
    "    \"epochs\": 150,\n",
    "    \"net\": tune.choice([config_net_1]),\n",
    "    \"tuning_id\": \"DBN\"\n",
    "}\n",
    "\n",
    "scheduler = ASHAScheduler(\n",
    "    metric=\"loss\",\n",
    "    mode=\"min\",\n",
    "    max_t=max_num_epochs,\n",
    "    grace_period=1,\n",
    "    reduction_factor=2)\n",
    "\n",
    "reporter = JupyterNotebookReporter(max_progress_rows=20, overwrite=True, max_report_frequency=10, max_error_rows=5)"
   ]
  },
  {
   "cell_type": "code",
   "execution_count": null,
   "metadata": {},
   "outputs": [],
   "source": [
    "tuner = HyperparameteresTunner()"
   ]
  },
  {
   "cell_type": "code",
   "execution_count": null,
   "metadata": {},
   "outputs": [],
   "source": [
    "best_model = tuner.tune(dataset_name, local_dir, config, scheduler, reporter, num_samples=4)"
   ]
  }
 ],
 "metadata": {
  "interpreter": {
   "hash": "b3ba2566441a7c06988d0923437866b63cedc61552a5af99d1f4fb67d367b25f"
  },
  "kernelspec": {
   "display_name": "Python 3.8.12 ('base')",
   "language": "python",
   "name": "python3"
  },
  "language_info": {
   "codemirror_mode": {
    "name": "ipython",
    "version": 3
   },
   "file_extension": ".py",
   "mimetype": "text/x-python",
   "name": "python",
   "nbconvert_exporter": "python",
   "pygments_lexer": "ipython3",
   "version": "3.8.12"
  },
  "orig_nbformat": 4
 },
 "nbformat": 4,
 "nbformat_minor": 2
}
