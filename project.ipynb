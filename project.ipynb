{
 "cells": [
  {
   "cell_type": "markdown",
   "metadata": {},
   "source": [
    "### PROJECT 1"
   ]
  },
  {
   "cell_type": "markdown",
   "metadata": {},
   "source": [
    "Docelowy notebook w którym będzie finalny kod :-)"
   ]
  },
  {
   "cell_type": "markdown",
   "metadata": {},
   "source": []
  },
  {
   "cell_type": "code",
   "execution_count": 1,
   "metadata": {},
   "outputs": [],
   "source": [
    "# imports\n",
    "import torch.nn as nn\n",
    "import torch.optim as optim\n",
    "import numpy as np\n",
    "from source.utils.config_manager import ConfigManager\n",
    "\n",
    "# hyperparameters tuning\n",
    "from ray import tune\n",
    "from ray.tune import JupyterNotebookReporter\n",
    "from ray.tune.schedulers import ASHAScheduler\n",
    "\n",
    "from source.hyperparams_tuning import HyperparameteresTunner\n",
    "\n",
    "# transformers\n",
    "from source.transformers import TestTransformersFactory\n",
    "from source.transformers import TrainTrasformersFactory\n",
    "\n",
    "# data loaders\n",
    "from source.dataloaders.cnn_data_loaders_factory import CNNDataLoaderFactory\n",
    "\n",
    "# networks\n",
    "from source.custom_cnn.pytorch_ray_tutorial_cnn import Net"
   ]
  },
  {
   "cell_type": "code",
   "execution_count": 2,
   "metadata": {},
   "outputs": [],
   "source": [
    "dataset_name = 'cifar10'\n",
    "dataset_path = ConfigManager.get_dataset_path(dataset_name)\n",
    "gpus_per_trial = 2\n",
    "max_num_epochs = 10\n",
    "num_samples = 10\n",
    "local_dir = ConfigManager.get_tuning_results_path()\n",
    "    \n",
    "config_criterion_1 = {\n",
    "    \"type\": tune.choice([nn.CrossEntropyLoss])\n",
    "}\n",
    "\n",
    "config_optimizer_1 = {\n",
    "    \"type\": tune.choice([optim.SGD]),\n",
    "    \"lr\": tune.loguniform(1e-4, 1e-1),\n",
    "}\n",
    "\n",
    "config_net_1 = {\n",
    "    \"type\": tune.choice([Net]),\n",
    "    \"optimizer\": tune.choice([config_optimizer_1]),\n",
    "    \"criterion\": tune.choice([config_criterion_1]),\n",
    "    \"l1\": tune.sample_from(lambda _: 2 ** np.random.randint(2, 9)),\n",
    "    \"l2\": tune.sample_from(lambda _: 2 ** np.random.randint(2, 9)),\n",
    "}\n",
    "\n",
    "config_net_2 = {\n",
    "    \"type\": tune.choice([Net]),\n",
    "    \"optimizer\": tune.choice([config_optimizer_1]),\n",
    "    \"criterion\": tune.choice([config_criterion_1]),\n",
    "    \"l1\": tune.sample_from(lambda _: 2 ** np.random.randint(2, 9)),\n",
    "    \"l2\": tune.sample_from(lambda _: 2 ** np.random.randint(2, 9)),\n",
    "}\n",
    "\n",
    "config = {\n",
    "    \"data_loaders_factory\": tune.choice([\n",
    "        CNNDataLoaderFactory(dataset_path,\n",
    "            TrainTrasformersFactory.get_train_transformer(), TestTransformersFactory.get_test_transformer())\n",
    "    ]),\n",
    "    \"batch_size\": tune.choice([2, 4, 8, 16]),\n",
    "    \"epochs\": 10,\n",
    "    \"net\": tune.choice([config_net_1, config_net_2]),\n",
    "    \"tuning_id\": \"XYZ\"\n",
    "}\n",
    "\n",
    "scheduler = ASHAScheduler(\n",
    "    metric=\"loss\",\n",
    "    mode=\"min\",\n",
    "    max_t=max_num_epochs,\n",
    "    grace_period=1,\n",
    "    reduction_factor=2)\n",
    "\n",
    "reporter = JupyterNotebookReporter(max_progress_rows=20, overwrite=True, max_report_frequency=10, max_error_rows=5)"
   ]
  },
  {
   "cell_type": "code",
   "execution_count": 3,
   "metadata": {},
   "outputs": [],
   "source": [
    "tuner = HyperparameteresTunner()"
   ]
  },
  {
   "cell_type": "code",
   "execution_count": 4,
   "metadata": {},
   "outputs": [
    {
     "data": {
      "text/html": [
       "== Status ==<br>Current time: 2022-03-15 14:11:06 (running for 00:16:29.08)<br>Memory usage on this node: 10.9/15.9 GiB<br>Using AsyncHyperBand: num_stopped=1\n",
       "Bracket: Iter 8.000: -1.4464482337905047 | Iter 4.000: -1.4382351401906748 | Iter 2.000: -1.5191065732103128 | Iter 1.000: -1.594816077978183<br>Resources requested: 0/8 CPUs, 0/1 GPUs, 0.0/4.77 GiB heap, 0.0/2.39 GiB objects<br>Result logdir: C:\\Users\\golik\\Desktop\\mgr\\dl\\project1\\cifar10-computer_vision\\tuning_results\\__train_validate_2022-03-15_13-54-37<br>Number of trials: 1/1 (1 TERMINATED)<br><table>\n",
       "<thead>\n",
       "<tr><th>Trial name                  </th><th>status    </th><th>loc            </th><th style=\"text-align: right;\">  batch_size</th><th>data_loaders_factory                                                                           </th><th>net                                                                                                                                                                                                                                              </th><th>net/criterion                                             </th><th>net/criterion/type                              </th><th style=\"text-align: right;\">  net/l1</th><th style=\"text-align: right;\">  net/l2</th><th>net/optimizer                                                     </th><th style=\"text-align: right;\">  net/optimizer/lr</th><th>net/optimizer/type           </th><th>net/type                                                </th><th style=\"text-align: right;\">  iter</th><th style=\"text-align: right;\">  total time (s)</th><th style=\"text-align: right;\">   loss</th><th style=\"text-align: right;\">  accuracy</th></tr>\n",
       "</thead>\n",
       "<tbody>\n",
       "<tr><td>__train_validate_1218d_00000</td><td>TERMINATED</td><td>127.0.0.1:17160</td><td style=\"text-align: right;\">          16</td><td>&lt;source.dataloaders.cnn_data_loaders_factory.CNNDataLoaderFactory object at 0x000001E1B9974BB0&gt;</td><td>{&#x27;type&#x27;: &lt;class &#x27;source.custom_cnn.pytorch_ray_tutorial_cnn.Net&#x27;&gt;, &#x27;optimizer&#x27;: {&#x27;type&#x27;: &lt;class &#x27;torch.optim.sgd.SGD&#x27;&gt;, &#x27;lr&#x27;: 0.07542107625690371}, &#x27;criterion&#x27;: {&#x27;type&#x27;: &lt;class &#x27;torch.nn.modules.loss.CrossEntropyLoss&#x27;&gt;}, &#x27;l1&#x27;: 128, &#x27;l2&#x27;: 16}</td><td>{&#x27;type&#x27;: &lt;class &#x27;torch.nn.modules.loss.CrossEntropyLoss&#x27;&gt;}</td><td>&lt;class &#x27;torch.nn.modules.loss.CrossEntropyLoss&#x27;&gt;</td><td style=\"text-align: right;\">     128</td><td style=\"text-align: right;\">      16</td><td>{&#x27;type&#x27;: &lt;class &#x27;torch.optim.sgd.SGD&#x27;&gt;, &#x27;lr&#x27;: 0.07542107625690371}</td><td style=\"text-align: right;\">         0.0754211</td><td>&lt;class &#x27;torch.optim.sgd.SGD&#x27;&gt;</td><td>&lt;class &#x27;source.custom_cnn.pytorch_ray_tutorial_cnn.Net&#x27;&gt;</td><td style=\"text-align: right;\">    10</td><td style=\"text-align: right;\">         832.974</td><td style=\"text-align: right;\">1.39089</td><td style=\"text-align: right;\">  0.520232</td></tr>\n",
       "</tbody>\n",
       "</table><br><br>"
      ],
      "text/plain": [
       "<IPython.core.display.HTML object>"
      ]
     },
     "metadata": {},
     "output_type": "display_data"
    },
    {
     "name": "stderr",
     "output_type": "stream",
     "text": [
      "2022-03-15 14:11:06,688\tINFO tune.py:639 -- Total run time: 989.30 seconds (840.86 seconds for the tuning loop).\n"
     ]
    },
    {
     "name": "stdout",
     "output_type": "stream",
     "text": [
      "Best trial config: {'data_loaders_factory': <source.dataloaders.cnn_data_loaders_factory.CNNDataLoaderFactory object at 0x000001E1B9974BB0>, 'batch_size': 16, 'epochs': 10, 'net': {'type': <class 'source.custom_cnn.pytorch_ray_tutorial_cnn.Net'>, 'optimizer': {'type': <class 'torch.optim.sgd.SGD'>, 'lr': 0.07542107625690371}, 'criterion': {'type': <class 'torch.nn.modules.loss.CrossEntropyLoss'>}, 'l1': 128, 'l2': 16}, 'tuning_id': 'XYZ_15-03-2022_13-54-24'}\n",
      "Best trial final validation loss: 1.3908878765427148\n",
      "Best trial final validation accuracy: 0.5202323717948718\n"
     ]
    },
    {
     "data": {
      "text/plain": [
       "__train_validate_1218d_00000"
      ]
     },
     "execution_count": 4,
     "metadata": {},
     "output_type": "execute_result"
    }
   ],
   "source": [
    "tuner.tune(dataset_name, local_dir, config, scheduler, reporter)"
   ]
  },
  {
   "cell_type": "code",
   "execution_count": null,
   "metadata": {},
   "outputs": [],
   "source": []
  }
 ],
 "metadata": {
  "interpreter": {
   "hash": "b3ba2566441a7c06988d0923437866b63cedc61552a5af99d1f4fb67d367b25f"
  },
  "kernelspec": {
   "display_name": "Python 3.8.12 ('base')",
   "language": "python",
   "name": "python3"
  },
  "language_info": {
   "codemirror_mode": {
    "name": "ipython",
    "version": 3
   },
   "file_extension": ".py",
   "mimetype": "text/x-python",
   "name": "python",
   "nbconvert_exporter": "python",
   "pygments_lexer": "ipython3",
   "version": "3.8.12"
  },
  "orig_nbformat": 4
 },
 "nbformat": 4,
 "nbformat_minor": 2
}
