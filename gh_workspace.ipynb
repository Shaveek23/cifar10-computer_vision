{
 "cells": [
  {
   "cell_type": "code",
   "execution_count": 1,
   "metadata": {},
   "outputs": [],
   "source": [
    "from source.custom_cnn.gh_custom_architecture import GH_CNN as CNN\n",
    "from data.data_preperation import load_data\n",
    "from training.parameters import get_loss_fun, get_optimizer\n",
    "from training.process import train_one_epoch, validate\n",
    "import torch\n",
    "import numpy as np\n",
    "from ray import tune\n",
    "from ray.tune import CLIReporter,JupyterNotebookReporter\n",
    "from ray.tune.schedulers import ASHAScheduler, HyperBandScheduler \n",
    "from functools import partial\n"
   ]
  },
  {
   "cell_type": "code",
   "execution_count": 2,
   "metadata": {},
   "outputs": [
    {
     "name": "stdout",
     "output_type": "stream",
     "text": [
      "Files already downloaded and verified\n",
      "Files already downloaded and verified\n"
     ]
    }
   ],
   "source": [
    "My_CNN = CNN()\n",
    "train_loader,validation_loader = load_data()\n",
    "#optimizer = get_optimizer(My_CNN)\n",
    "loss_fn = get_loss_fun()"
   ]
  },
  {
   "cell_type": "code",
   "execution_count": 3,
   "metadata": {},
   "outputs": [],
   "source": [
    "EPOCHS =12\n",
    "def train_with_parameters(config):\n",
    "    My_CNN = CNN()\n",
    "    train_loader,validation_loader = load_data(config['batch_size'])\n",
    "    #optimizer = get_optimizer(My_CNN)\n",
    "    loss_fn = get_loss_fun()\n",
    "\n",
    "    best_vloss = 1_000_000.\n",
    "    best_accuracy = 0\n",
    "    #print(config['lr'], config =['momentum'])\n",
    "    for epoch in range(EPOCHS):\n",
    "        avg_loss = train_one_epoch(model=My_CNN,optimizer=get_optimizer(My_CNN,config['lr'],config['momentum']),loss_fn=loss_fn,train_loader=train_loader)\n",
    "        avg_vloss,accuracy = validate(model= My_CNN,validation_loader=validation_loader,loss_fn=loss_fn) \n",
    "        print(epoch)  \n",
    "        print(\"loss: train {}, test {}, accuracy on test {}\".format(avg_loss,avg_vloss,accuracy))\n",
    "        if avg_vloss < best_vloss:\n",
    "            best_vloss = avg_vloss\n",
    "        if best_accuracy < accuracy:\n",
    "            best_accuracy=accuracy\n",
    "    #tune.report(loss = best_vloss,mean_accuracy=best_accuracy)\n",
    "    return best_accuracy,best_vloss\n",
    "\n",
    "        \n",
    "        "
   ]
  },
  {
   "cell_type": "code",
   "execution_count": 4,
   "metadata": {},
   "outputs": [
    {
     "name": "stdout",
     "output_type": "stream",
     "text": [
      "Files already downloaded and verified\n",
      "Files already downloaded and verified\n",
      "0\n",
      "loss: train 1.9262114182710648, test 1.8905808925628662, accuracy on test 32.34\n",
      "1\n",
      "loss: train 1.653115183055401, test 1.6310735940933228, accuracy on test 40.0\n",
      "2\n",
      "loss: train 1.522185061752796, test 1.5352693796157837, accuracy on test 44.3\n",
      "3\n",
      "loss: train 1.4328638684153556, test 1.3999102115631104, accuracy on test 49.29\n",
      "4\n",
      "loss: train 1.3667404010295867, test 1.342947244644165, accuracy on test 51.86\n",
      "5\n",
      "loss: train 1.2770145881474018, test 1.3167521953582764, accuracy on test 52.98\n",
      "6\n",
      "loss: train 1.2482667464613915, test 1.2864431142807007, accuracy on test 54.72\n",
      "7\n",
      "loss: train 1.209237706154585, test 1.2278218269348145, accuracy on test 56.33\n",
      "8\n",
      "loss: train 1.184493182271719, test 1.2070938348770142, accuracy on test 56.65\n",
      "9\n",
      "loss: train 1.1563770025968552, test 1.1867088079452515, accuracy on test 58.06\n",
      "10\n",
      "loss: train 1.1043328238129615, test 1.148362159729004, accuracy on test 59.96\n",
      "11\n",
      "loss: train 1.0682167659401893, test 1.119126319885254, accuracy on test 60.26\n"
     ]
    },
    {
     "data": {
      "text/plain": [
       "(60.26, 1.119126319885254)"
      ]
     },
     "execution_count": 4,
     "metadata": {},
     "output_type": "execute_result"
    }
   ],
   "source": [
    "config = {\"lr\": 0.001, \"momentum\":0.7,'batch_size':8}\n",
    "train_with_parameters(config)"
   ]
  },
  {
   "cell_type": "code",
   "execution_count": 4,
   "metadata": {},
   "outputs": [
    {
     "name": "stdout",
     "output_type": "stream",
     "text": [
      "Files already downloaded and verified\n",
      "Files already downloaded and verified\n",
      "0\n",
      "loss: train 1.8882906171083451, test 1.838563323020935, accuracy on test 33.25\n",
      "1\n",
      "loss: train 1.5538296988606453, test 1.5202088356018066, accuracy on test 45.01\n",
      "2\n",
      "loss: train 1.4273329628705977, test 1.4282317161560059, accuracy on test 47.71\n",
      "3\n",
      "loss: train 1.351450047016144, test 1.356316328048706, accuracy on test 50.33\n",
      "4\n",
      "loss: train 1.2709392444193364, test 1.2559773921966553, accuracy on test 54.7\n",
      "5\n",
      "loss: train 1.189545194208622, test 1.2133811712265015, accuracy on test 56.01\n",
      "6\n",
      "loss: train 1.1402035234868526, test 1.1764880418777466, accuracy on test 58.26\n",
      "7\n",
      "loss: train 1.1015233540982008, test 1.131168007850647, accuracy on test 59.28\n",
      "8\n",
      "loss: train 1.0488100021481515, test 1.1175953149795532, accuracy on test 60.58\n",
      "9\n",
      "loss: train 1.007119820728898, test 1.0910253524780273, accuracy on test 61.79\n",
      "10\n",
      "loss: train 0.9895301367491484, test 1.0946228504180908, accuracy on test 61.7\n",
      "11\n",
      "loss: train 0.9360820728838444, test 1.0793827772140503, accuracy on test 61.94\n"
     ]
    },
    {
     "data": {
      "text/plain": [
       "(61.94, 1.0793827772140503)"
      ]
     },
     "execution_count": 4,
     "metadata": {},
     "output_type": "execute_result"
    }
   ],
   "source": [
    "config = {\"lr\": 0.001, \"momentum\":0.7,'batch_size':8}\n",
    "train_with_parameters(config)"
   ]
  },
  {
   "cell_type": "code",
   "execution_count": null,
   "metadata": {},
   "outputs": [
    {
     "name": "stderr",
     "output_type": "stream",
     "text": [
      "2022-03-13 11:14:19,076\tINFO hyperband.py:177 -- Bracket too small - Retrying...\n",
      "2022-03-13 11:14:19,085\tINFO hyperband.py:177 -- Bracket too small - Retrying...\n",
      "2022-03-13 11:14:19,092\tINFO hyperband.py:177 -- Bracket too small - Retrying...\n",
      "2022-03-13 11:14:19,103\tINFO hyperband.py:177 -- Bracket too small - Retrying...\n",
      "2022-03-13 11:14:19,112\tINFO hyperband.py:177 -- Bracket too small - Retrying...\n",
      "2022-03-13 11:14:19,120\tINFO hyperband.py:177 -- Bracket too small - Retrying...\n",
      "2022-03-13 11:14:19,124\tINFO hyperband.py:177 -- Bracket too small - Retrying...\n"
     ]
    }
   ],
   "source": [
    "reporter = JupyterNotebookReporter(max_progress_rows=20,overwrite=True,max_report_frequency  = 10,max_error_rows=5)\n",
    "scheduler = HyperBandScheduler (\n",
    "    metric=\"loss\",\n",
    "        mode=\"min\",\n",
    "        max_t=2)\n",
    "config = {\"lr\": tune.loguniform(1e-4, 1e-1), \"momentum\":tune.uniform(0.6,0.9),'batch_size':tune.grid_search([2,4,6,8])}\n",
    "#config = {\"lr\": tune.grid_search([0.002]), \"momentum\":tune.grid_search([0.7]),'batch_size':tune.grid_search([10])}\n",
    "#print(f'Best loss {train_with_parameters(config,train_loader, validation_loader,3)}')\n",
    "analysis = tune.run(\n",
    "    tune.with_parameters(train_with_parameters),\n",
    "     scheduler=scheduler,\n",
    "     num_samples=10,\n",
    "    config=config,\n",
    "    progress_reporter=reporter\n",
    "   )\n"
   ]
  },
  {
   "cell_type": "code",
   "execution_count": null,
   "metadata": {},
   "outputs": [],
   "source": []
  },
  {
   "cell_type": "code",
   "execution_count": null,
   "metadata": {},
   "outputs": [],
   "source": [
    "import matplotlib\n",
    "dfs = analysis.trial_dataframes\n",
    "ax = None  # This plots everything on the same plot\n",
    "for d in dfs.values():\n",
    "    print(d.mean_accuracy)"
   ]
  }
 ],
 "metadata": {
  "interpreter": {
   "hash": "0896b15b5933ffe8dd81c748f21e943765cae3353ddea168db9104a39e7f361b"
  },
  "kernelspec": {
   "display_name": "Python 3.8.5 ('base')",
   "language": "python",
   "name": "python3"
  },
  "language_info": {
   "codemirror_mode": {
    "name": "ipython",
    "version": 3
   },
   "file_extension": ".py",
   "mimetype": "text/x-python",
   "name": "python",
   "nbconvert_exporter": "python",
   "pygments_lexer": "ipython3",
   "version": "3.9.7"
  },
  "orig_nbformat": 4
 },
 "nbformat": 4,
 "nbformat_minor": 2
}
